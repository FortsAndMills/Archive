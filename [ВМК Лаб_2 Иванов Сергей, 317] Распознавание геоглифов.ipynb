{
 "cells": [
  {
   "cell_type": "markdown",
   "metadata": {},
   "source": [
    "## Лабораторная работа №2 по курсу \"Обработка и Распознавание Изображений\"\n",
    "## Иванов Сергей, гр. 317\n",
    "\n",
    "### Инструкция по запуску.\n",
    "Для получения номера класса вызовается функцию solve (см. ниже), с единственным аргументом в виде названия файла."
   ]
  },
  {
   "cell_type": "code",
   "execution_count": 1,
   "metadata": {
    "collapsed": false,
    "run_control": {
     "frozen": false,
     "read_only": false
    }
   },
   "outputs": [],
   "source": [
    "import cv2\n",
    "import numpy as np\n",
    "from random import randint\n",
    "import math\n",
    "\n",
    "from skimage import img_as_float\n",
    "from skimage import img_as_ubyte\n",
    "from skimage.morphology import skeletonize"
   ]
  },
  {
   "cell_type": "code",
   "execution_count": 2,
   "metadata": {
    "collapsed": true
   },
   "outputs": [],
   "source": [
    "def skelet(img):\n",
    "    image = img_as_float(img)\n",
    "    skeleton = skeletonize(image)\n",
    "    return img_as_ubyte(skeleton)"
   ]
  },
  {
   "cell_type": "code",
   "execution_count": 3,
   "metadata": {
    "collapsed": true,
    "run_control": {
     "frozen": false,
     "read_only": false
    }
   },
   "outputs": [],
   "source": [
    "def show(img):\n",
    "    cv2.imshow('image',img)\n",
    "    cv2.waitKey(0)\n",
    "    cv2.destroyAllWindows()"
   ]
  },
  {
   "cell_type": "code",
   "execution_count": 4,
   "metadata": {
    "collapsed": true
   },
   "outputs": [],
   "source": [
    "def load(name):\n",
    "    img = cv2.imread(name)\n",
    "    img = cv2.cvtColor(img, cv2.COLOR_BGR2GRAY)\n",
    "    return cv2.threshold(img, 127, 255, cv2.THRESH_BINARY_INV)[1]"
   ]
  },
  {
   "cell_type": "code",
   "execution_count": 5,
   "metadata": {
    "collapsed": false
   },
   "outputs": [],
   "source": [
    "def getFeatures(img):\n",
    "    skel = skelet(img)\n",
    "\n",
    "    im2, contours, hierarchy = cv2.findContours(skelet(img), cv2.RETR_LIST, cv2.CHAIN_APPROX_NONE)        \n",
    "    cnvx_ans = np.array([len(cv2.convexHull(cnt)) for cnt in contours]).max()\n",
    "      \n",
    "    def walk(x, y, ans):        \n",
    "        if skel[x][y] == 0:\n",
    "            return 0\n",
    "               \n",
    "        skel[x][y] = 0\n",
    "        \n",
    "        ways = []\n",
    "        ways.append(walk(x - 1, y, ans))\n",
    "        ways.append(walk(x + 1, y, ans))\n",
    "        ways.append(walk(x, y - 1, ans))\n",
    "        ways.append(walk(x, y + 1, ans))\n",
    "        ways.append(walk(x + 1, y + 1, ans))\n",
    "        ways.append(walk(x + 1, y - 1, ans))\n",
    "        ways.append(walk(x - 1, y - 1, ans))\n",
    "        ways.append(walk(x - 1, y + 1, ans))\n",
    "        ways = np.array(ways)\n",
    "        \n",
    "        if (ways > 30).sum() > 1:            \n",
    "            ans.append((x, y))\n",
    "        \n",
    "        return ways.max() + 1\n",
    "    \n",
    "    ans = []\n",
    "    walk(int(np.nonzero(skel)[0][0]), int(np.nonzero(skel)[1][0]), ans)\n",
    "                \n",
    "    return cnvx_ans, len(ans)"
   ]
  },
  {
   "cell_type": "code",
   "execution_count": 6,
   "metadata": {
    "collapsed": true
   },
   "outputs": [],
   "source": [
    "def solve(name):\n",
    "    img = load(name)    \n",
    "    cnvx_f, skel_f = getFeatures(img)\n",
    "\n",
    "    if skel_f <= 3:\n",
    "        return 5\n",
    "    if skel_f == 4:\n",
    "        if cnvx_f <= 16:\n",
    "            return 2\n",
    "        if cnvx_f <= 25:\n",
    "            return 5\n",
    "        return 6\n",
    "    if skel_f >= 5 and skel_f <= 6:\n",
    "        if cnvx_f <= 21:\n",
    "            return 2\n",
    "        return 6\n",
    "    if skel_f == 7:\n",
    "        if cnvx_f <= 12:\n",
    "            return 3\n",
    "        if cnvx_f <= 21:\n",
    "            return 2\n",
    "        return 6\n",
    "    if skel_f == 8:\n",
    "        if cnvx_f <= 13:\n",
    "            return 3\n",
    "        if cnvx_f <= 21:\n",
    "            return 4\n",
    "        return 6\n",
    "    if skel_f == 9:\n",
    "        if cnvx_f <= 9:\n",
    "            return 3\n",
    "        if cnvx_f <= 21:\n",
    "            return 4\n",
    "        return 6\n",
    "    if skel_f == 10:\n",
    "        if cnvx_f <= 6:\n",
    "            return 1\n",
    "        if cnvx_f <= 9:\n",
    "            return 3\n",
    "        if cnvx_f <= 21:\n",
    "            return 4\n",
    "        return 6\n",
    "    if skel_f >= 11:\n",
    "        if cnvx_f <= 8:\n",
    "            return 1\n",
    "        if cnvx_f <= 21:\n",
    "            return 7\n",
    "        return 6"
   ]
  },
  {
   "cell_type": "markdown",
   "metadata": {},
   "source": [
    "Здесь поставьте название файла; на выходе выдаётся итоговый ответ"
   ]
  },
  {
   "cell_type": "code",
   "execution_count": 7,
   "metadata": {
    "collapsed": false
   },
   "outputs": [
    {
     "data": {
      "text/plain": [
       "4"
      ]
     },
     "execution_count": 7,
     "metadata": {},
     "output_type": "execute_result"
    }
   ],
   "source": [
    "solve(\"S4 (1).bmp\")"
   ]
  },
  {
   "cell_type": "markdown",
   "metadata": {},
   "source": [
    "# ТЕСТОВЫЙ МОДУЛЬ\n",
    "Этот модуль не требуется для работы программы; в нём ведётся запуск алгоритма на тестовых изображениях из предоставленной входной выборки, а также анализ полученной информации, использующийся для обоснования алгоритма. Файлы здесь имеют названния вида \"Si (j).bmp\", где i - истинный класс, j - порядковый номер. Впрочем, полагаю, что запуск этого модуля не потребуется, достаточно просто посмотреть на результат его работы."
   ]
  },
  {
   "cell_type": "code",
   "execution_count": 8,
   "metadata": {
    "collapsed": true
   },
   "outputs": [],
   "source": [
    "import pandas as pd\n",
    "from itertools import product\n",
    "\n",
    "import matplotlib.pyplot as plt\n",
    "%matplotlib inline\n",
    "from pylab import rcParams\n",
    "rcParams['figure.figsize'] = 14, 12"
   ]
  },
  {
   "cell_type": "code",
   "execution_count": 9,
   "metadata": {
    "collapsed": false
   },
   "outputs": [],
   "source": [
    "def solve(cnvx_f, skel_f):\n",
    "    if skel_f <= 3:\n",
    "        return 5\n",
    "    if skel_f == 4:\n",
    "        if cnvx_f <= 16:\n",
    "            return 2\n",
    "        if cnvx_f <= 25:\n",
    "            return 5\n",
    "        return 6\n",
    "    if skel_f >= 5 and skel_f <= 6:\n",
    "        if cnvx_f <= 21:\n",
    "            return 2\n",
    "        return 6\n",
    "    if skel_f == 7:\n",
    "        if cnvx_f <= 12:\n",
    "            return 3\n",
    "        if cnvx_f <= 21:\n",
    "            return 2\n",
    "        return 6\n",
    "    if skel_f == 8:\n",
    "        if cnvx_f <= 13:\n",
    "            return 3\n",
    "        if cnvx_f <= 21:\n",
    "            return 4\n",
    "        return 6\n",
    "    if skel_f == 9:\n",
    "        if cnvx_f <= 9:\n",
    "            return 3\n",
    "        if cnvx_f <= 21:\n",
    "            return 4\n",
    "        return 6\n",
    "    if skel_f == 10:\n",
    "        if cnvx_f <= 6:\n",
    "            return 1\n",
    "        if cnvx_f <= 9:\n",
    "            return 3\n",
    "        if cnvx_f <= 21:\n",
    "            return 4\n",
    "        return 6\n",
    "    if skel_f >= 11:\n",
    "        if cnvx_f <= 8:\n",
    "            return 1\n",
    "        if cnvx_f <= 21:\n",
    "            return 7\n",
    "        return 6"
   ]
  },
  {
   "cell_type": "code",
   "execution_count": 10,
   "metadata": {
    "collapsed": false
   },
   "outputs": [],
   "source": [
    "starts = ['S1', 'S2', 'S3', 'S4', 'S5', 'S6', 'S7']\n",
    "colors = {'S1': '#000000', 'S2': 'y', 'S3': 'r', 'S4': 'c', 'S5': 'm', 'S6': 'g', 'S7': 'b'}\n",
    "ends = [' (1)', ' (2)', ' (3)', ' (4)']\n",
    "\n",
    "element = cv2.getStructuringElement(cv2.MORPH_CROSS, (3, 3))"
   ]
  },
  {
   "cell_type": "code",
   "execution_count": 11,
   "metadata": {
    "collapsed": false
   },
   "outputs": [
    {
     "name": "stderr",
     "output_type": "stream",
     "text": [
      "C:\\Anaconda3\\lib\\site-packages\\ipykernel\\__main__.py:8: DeprecationWarning: elementwise == comparison failed; this will raise an error in the future.\n"
     ]
    }
   ],
   "source": [
    "DF = pd.DataFrame()\n",
    "F = pd.DataFrame()\n",
    "F2 = pd.DataFrame()\n",
    "for start, end in list(product(starts, ends)):\n",
    "    img = load(start + end + '.bmp')\n",
    "    \n",
    "    f1, f2 = getFeatures(img)\n",
    "    DF.ix[start + end, \"cnvx\"] = f1\n",
    "    DF.ix[start + end, \"bases\"] = f2\n",
    "    F.ix[start, end] = f1\n",
    "    F2.ix[start, end] = f2"
   ]
  },
  {
   "cell_type": "markdown",
   "metadata": {},
   "source": [
    "## Значения первого признака"
   ]
  },
  {
   "cell_type": "code",
   "execution_count": 12,
   "metadata": {
    "collapsed": false
   },
   "outputs": [
    {
     "data": {
      "text/html": [
       "<div>\n",
       "<table border=\"1\" class=\"dataframe\">\n",
       "  <thead>\n",
       "    <tr style=\"text-align: right;\">\n",
       "      <th></th>\n",
       "      <th>(1)</th>\n",
       "      <th>(2)</th>\n",
       "      <th>(3)</th>\n",
       "      <th>(4)</th>\n",
       "    </tr>\n",
       "  </thead>\n",
       "  <tbody>\n",
       "    <tr>\n",
       "      <th>S1</th>\n",
       "      <td>5.0</td>\n",
       "      <td>6.0</td>\n",
       "      <td>7.0</td>\n",
       "      <td>5.0</td>\n",
       "    </tr>\n",
       "    <tr>\n",
       "      <th>S2</th>\n",
       "      <td>14.0</td>\n",
       "      <td>15.0</td>\n",
       "      <td>16.0</td>\n",
       "      <td>14.0</td>\n",
       "    </tr>\n",
       "    <tr>\n",
       "      <th>S3</th>\n",
       "      <td>9.0</td>\n",
       "      <td>9.0</td>\n",
       "      <td>8.0</td>\n",
       "      <td>11.0</td>\n",
       "    </tr>\n",
       "    <tr>\n",
       "      <th>S4</th>\n",
       "      <td>14.0</td>\n",
       "      <td>10.0</td>\n",
       "      <td>12.0</td>\n",
       "      <td>15.0</td>\n",
       "    </tr>\n",
       "    <tr>\n",
       "      <th>S5</th>\n",
       "      <td>21.0</td>\n",
       "      <td>20.0</td>\n",
       "      <td>18.0</td>\n",
       "      <td>23.0</td>\n",
       "    </tr>\n",
       "    <tr>\n",
       "      <th>S6</th>\n",
       "      <td>30.0</td>\n",
       "      <td>28.0</td>\n",
       "      <td>29.0</td>\n",
       "      <td>27.0</td>\n",
       "    </tr>\n",
       "    <tr>\n",
       "      <th>S7</th>\n",
       "      <td>9.0</td>\n",
       "      <td>11.0</td>\n",
       "      <td>12.0</td>\n",
       "      <td>11.0</td>\n",
       "    </tr>\n",
       "  </tbody>\n",
       "</table>\n",
       "</div>"
      ],
      "text/plain": [
       "     (1)   (2)   (3)   (4)\n",
       "S1   5.0   6.0   7.0   5.0\n",
       "S2  14.0  15.0  16.0  14.0\n",
       "S3   9.0   9.0   8.0  11.0\n",
       "S4  14.0  10.0  12.0  15.0\n",
       "S5  21.0  20.0  18.0  23.0\n",
       "S6  30.0  28.0  29.0  27.0\n",
       "S7   9.0  11.0  12.0  11.0"
      ]
     },
     "execution_count": 12,
     "metadata": {},
     "output_type": "execute_result"
    }
   ],
   "source": [
    "F"
   ]
  },
  {
   "cell_type": "markdown",
   "metadata": {},
   "source": [
    "## Значения второго признака"
   ]
  },
  {
   "cell_type": "code",
   "execution_count": 13,
   "metadata": {
    "collapsed": false
   },
   "outputs": [
    {
     "data": {
      "text/html": [
       "<div>\n",
       "<table border=\"1\" class=\"dataframe\">\n",
       "  <thead>\n",
       "    <tr style=\"text-align: right;\">\n",
       "      <th></th>\n",
       "      <th>(1)</th>\n",
       "      <th>(2)</th>\n",
       "      <th>(3)</th>\n",
       "      <th>(4)</th>\n",
       "    </tr>\n",
       "  </thead>\n",
       "  <tbody>\n",
       "    <tr>\n",
       "      <th>S1</th>\n",
       "      <td>12.0</td>\n",
       "      <td>12.0</td>\n",
       "      <td>12.0</td>\n",
       "      <td>11.0</td>\n",
       "    </tr>\n",
       "    <tr>\n",
       "      <th>S2</th>\n",
       "      <td>5.0</td>\n",
       "      <td>6.0</td>\n",
       "      <td>5.0</td>\n",
       "      <td>5.0</td>\n",
       "    </tr>\n",
       "    <tr>\n",
       "      <th>S3</th>\n",
       "      <td>9.0</td>\n",
       "      <td>8.0</td>\n",
       "      <td>9.0</td>\n",
       "      <td>8.0</td>\n",
       "    </tr>\n",
       "    <tr>\n",
       "      <th>S4</th>\n",
       "      <td>9.0</td>\n",
       "      <td>9.0</td>\n",
       "      <td>10.0</td>\n",
       "      <td>9.0</td>\n",
       "    </tr>\n",
       "    <tr>\n",
       "      <th>S5</th>\n",
       "      <td>1.0</td>\n",
       "      <td>2.0</td>\n",
       "      <td>3.0</td>\n",
       "      <td>2.0</td>\n",
       "    </tr>\n",
       "    <tr>\n",
       "      <th>S6</th>\n",
       "      <td>5.0</td>\n",
       "      <td>6.0</td>\n",
       "      <td>7.0</td>\n",
       "      <td>6.0</td>\n",
       "    </tr>\n",
       "    <tr>\n",
       "      <th>S7</th>\n",
       "      <td>12.0</td>\n",
       "      <td>11.0</td>\n",
       "      <td>11.0</td>\n",
       "      <td>12.0</td>\n",
       "    </tr>\n",
       "  </tbody>\n",
       "</table>\n",
       "</div>"
      ],
      "text/plain": [
       "     (1)   (2)   (3)   (4)\n",
       "S1  12.0  12.0  12.0  11.0\n",
       "S2   5.0   6.0   5.0   5.0\n",
       "S3   9.0   8.0   9.0   8.0\n",
       "S4   9.0   9.0  10.0   9.0\n",
       "S5   1.0   2.0   3.0   2.0\n",
       "S6   5.0   6.0   7.0   6.0\n",
       "S7  12.0  11.0  11.0  12.0"
      ]
     },
     "execution_count": 13,
     "metadata": {},
     "output_type": "execute_result"
    }
   ],
   "source": [
    "F2"
   ]
  },
  {
   "cell_type": "markdown",
   "metadata": {},
   "source": [
    "## Расположение признаков на плоскости"
   ]
  },
  {
   "cell_type": "code",
   "execution_count": 14,
   "metadata": {
    "collapsed": false
   },
   "outputs": [
    {
     "data": {
      "text/plain": [
       "<matplotlib.legend.Legend at 0x21d82a158d0>"
      ]
     },
     "execution_count": 14,
     "metadata": {},
     "output_type": "execute_result"
    },
    {
     "data": {
      "image/png": "[encoded data removed]",
      "text/plain": [
       "<matplotlib.figure.Figure at 0x21d82994b70>"
      ]
     },
     "metadata": {},
     "output_type": "display_data"
    }
   ],
   "source": [
    "import matplotlib\n",
    "font = {'size'   : 16}\n",
    "matplotlib.rc('font', **font)\n",
    "\n",
    "data = DF.as_matrix()\n",
    "for name, col in colors.items():\n",
    "    i = int(name[1])\n",
    "    plt.scatter(data[i * 4 - 4: i*4, 0], data[i * 4 - 4: i*4, 1], s=200, c = col, label=name[1])\n",
    "\n",
    "plt.xlim(4, 31)\n",
    "#plt.ylim(0, 13)\n",
    "plt.legend(loc=3)"
   ]
  },
  {
   "cell_type": "markdown",
   "metadata": {},
   "source": [
    "## Разбиение пространства признаков решающим деревом из sklearn"
   ]
  },
  {
   "cell_type": "code",
   "execution_count": 15,
   "metadata": {
    "collapsed": false
   },
   "outputs": [
    {
     "data": {
      "text/plain": [
       "<matplotlib.legend.Legend at 0x21d8305d9b0>"
      ]
     },
     "execution_count": 15,
     "metadata": {},
     "output_type": "execute_result"
    },
    {
     "data": {
      "image/png": "[encoded data removed]",
      "text/plain": [
       "<matplotlib.figure.Figure at 0x21d82f667f0>"
      ]
     },
     "metadata": {},
     "output_type": "display_data"
    }
   ],
   "source": [
    "from sklearn.tree import DecisionTreeClassifier as DTC\n",
    "from matplotlib.colors import LinearSegmentedColormap\n",
    "dtc = DTC().fit(data, np.array([1,1,1,1,2,2,2,2,3,3,3,3,4,4,4,4,5,5,5,5,6,6,6,6,7,7,7,7]))\n",
    "\n",
    "xx, yy = np.meshgrid(np.arange(4, 33), np.arange(0, 15))\n",
    "cl = dtc.predict(np.array([xx.flatten(), yy.flatten()]).T)\n",
    "\n",
    "cm = LinearSegmentedColormap.from_list(\"\", ['#000000', 'y', 'r', 'c', 'm', 'g', 'b'], 7)\n",
    "plt.pcolor(xx - 0.5, yy - 0.5, cl.reshape(xx.shape), cmap=cm)\n",
    "\n",
    "for name, col in colors.items():\n",
    "    i = int(name[1])\n",
    "    if col == '#000000':\n",
    "        col = '#FFFFFF'\n",
    "    plt.scatter(data[i * 4 - 4: i*4, 0], data[i * 4 - 4: i*4, 1], s=200, c = col, label=name[1])\n",
    "\n",
    "plt.xlim(4, 31)\n",
    "plt.ylim(0, 13)\n",
    "plt.legend(loc=3)"
   ]
  },
  {
   "cell_type": "markdown",
   "metadata": {},
   "source": [
    "## Собственное разбиение"
   ]
  },
  {
   "cell_type": "code",
   "execution_count": 16,
   "metadata": {
    "collapsed": false
   },
   "outputs": [
    {
     "data": {
      "text/plain": [
       "<matplotlib.legend.Legend at 0x21d83316470>"
      ]
     },
     "execution_count": 16,
     "metadata": {},
     "output_type": "execute_result"
    },
    {
     "data": {
      "image/png": "[encoded data removed]",
      "text/plain": [
       "<matplotlib.figure.Figure at 0x21d83071f98>"
      ]
     },
     "metadata": {},
     "output_type": "display_data"
    }
   ],
   "source": [
    "from matplotlib.colors import LinearSegmentedColormap\n",
    "\n",
    "xx, yy = np.meshgrid(np.arange(4, 33), np.arange(0, 15))\n",
    "cl = []\n",
    "for a in np.array([xx.flatten(), yy.flatten()]).T:\n",
    "    cl.append(solve(a[0], a[1]))\n",
    "cl = np.array(cl)\n",
    "\n",
    "cm = LinearSegmentedColormap.from_list(\"\", ['#000000', 'y', 'r', 'c', 'm', 'g', 'b'], 7)\n",
    "plt.pcolor(xx - 0.5, yy - 0.5, cl.reshape(xx.shape), cmap=cm)\n",
    "\n",
    "for name, col in colors.items():\n",
    "    i = int(name[1])    \n",
    "    if col == '#000000':\n",
    "        col = '#FFFFFF'\n",
    "    plt.scatter(data[i * 4 - 4: i*4, 0], data[i * 4 - 4: i*4, 1], s=200, c = col, label=name[1])\n",
    "\n",
    "plt.xlim(4, 31)\n",
    "plt.ylim(0, 13)\n",
    "plt.legend(loc=3)"
   ]
  }
 ],
 "metadata": {
  "anaconda-cloud": {},
  "hide_input": false,
  "kernelspec": {
   "display_name": "Python [Root]",
   "language": "python",
   "name": "Python [Root]"
  },
  "language_info": {
   "codemirror_mode": {
    "name": "ipython",
    "version": 3
   },
   "file_extension": ".py",
   "mimetype": "text/x-python",
   "name": "python",
   "nbconvert_exporter": "python",
   "pygments_lexer": "ipython3",
   "version": "3.5.2"
  },
  "latex_envs": {
   "LaTeX_envs_menu_present": true,
   "bibliofile": "biblio.bib",
   "cite_by": "apalike",
   "current_citInitial": 1,
   "eqLabelWithNumbers": true,
   "eqNumInitial": 1,
   "hotkeys": {
    "equation": "Ctrl-E",
    "itemize": "Ctrl-I"
   },
   "labels_anchors": false,
   "latex_user_defs": false,
   "report_style_numbering": false,
   "user_envs_cfg": false
  }
 },
 "nbformat": 4,
 "nbformat_minor": 0
}
