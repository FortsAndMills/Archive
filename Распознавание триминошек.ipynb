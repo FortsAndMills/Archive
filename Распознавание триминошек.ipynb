{
 "cells": [
  {
   "cell_type": "code",
   "execution_count": 1,
   "metadata": {
    "collapsed": false,
    "run_control": {
     "frozen": false,
     "read_only": false
    }
   },
   "outputs": [],
   "source": [
    "import cv2\n",
    "import numpy as np\n",
    "from random import randint\n",
    "import math\n",
    "\n",
    "from sklearn.ensemble import IsolationForest"
   ]
  },
  {
   "cell_type": "code",
   "execution_count": 67,
   "metadata": {
    "collapsed": true
   },
   "outputs": [],
   "source": [
    "img = cv2.imread('Pict_4_4.bmp')\n",
    "verbose = True"
   ]
  },
  {
   "cell_type": "code",
   "execution_count": 68,
   "metadata": {
    "collapsed": true,
    "run_control": {
     "frozen": false,
     "read_only": false
    }
   },
   "outputs": [],
   "source": [
    "def show(img):\n",
    "    cv2.imshow('image',img)\n",
    "    cv2.waitKey(0)\n",
    "    cv2.destroyAllWindows()\n",
    "    \n",
    "def sign(a):\n",
    "    if a > 0:\n",
    "        return 1\n",
    "    elif a < 0:\n",
    "        return -1\n",
    "    return 0\n",
    "def dist(a, b):\n",
    "    return ((a[0] - b[0])**2 + (a[1] - b[1])**2)**0.5\n",
    "\n",
    "def t_int(tup):\n",
    "    return (int(tup[0]), int(tup[1]))"
   ]
  },
  {
   "cell_type": "code",
   "execution_count": 69,
   "metadata": {
    "collapsed": true
   },
   "outputs": [],
   "source": [
    "def getColor(img, r_base, g_base, b_base):\n",
    "    b,g,r = cv2.split(img)\n",
    "    b = b.astype(float)\n",
    "    r = r.astype(float)\n",
    "    g = g.astype(float)\n",
    "    \n",
    "    r_norm = max(abs(255 - r_base), r_base)**2\n",
    "    g_norm = max(abs(255 - g_base), g_base)**2\n",
    "    b_norm = max(abs(255 - b_base), b_base)**2\n",
    "    \n",
    "    dist = np.maximum((r - r_base)**2 / r_norm, \n",
    "                      (g - g_base)**2 / g_norm, \n",
    "                      (b - b_base)**2 / b_norm)\n",
    "    dist /= dist.max()\n",
    "    return (255 * (1 - dist)).astype(np.uint8)"
   ]
  },
  {
   "cell_type": "markdown",
   "metadata": {},
   "source": [
    "# ТРИМИНОШКИ"
   ]
  },
  {
   "cell_type": "code",
   "execution_count": 70,
   "metadata": {
    "collapsed": false
   },
   "outputs": [],
   "source": [
    "b,g,r = cv2.split(img)\n",
    "brown = getColor(img, 110, 70, 50)\n",
    "if verbose:\n",
    "    show(brown)"
   ]
  },
  {
   "cell_type": "code",
   "execution_count": 71,
   "metadata": {
    "collapsed": false
   },
   "outputs": [],
   "source": [
    "COLORS = [(255, 0, 0), (0, 255, 0), (0, 0, 255), (0, 255, 255), (255, 255, 0), (255, 0, 255), (255, 255, 255)]\n",
    "class Triangle:\n",
    "    def __init__(self, cnt):\n",
    "                    \n",
    "        left = tuple(cnt[cnt[:,:,0].argmin()][0])\n",
    "        right = tuple(cnt[cnt[:,:,0].argmax()][0])\n",
    "        top = tuple(cnt[cnt[:,:,1].argmin()][0])\n",
    "        bottom = tuple(cnt[cnt[:,:,1].argmax()][0])\n",
    "\n",
    "        distances = np.array([dist(left, top), dist(top, right), dist(right, bottom), dist(bottom, left)])\n",
    "\n",
    "        self.points = [left, top, right, bottom]\n",
    "        to_del = distances.argmin()\n",
    "        self.points[(to_del + 1) % 4] = ((self.points[(to_del + 1) % 4][0] + self.points[to_del][0]) / 2, (self.points[(to_del + 1) % 4][1] + self.points[to_del][1]) / 2) \n",
    "        del self.points[distances.argmin()]\n",
    "\n",
    "        self.minimum = distances.min()\n",
    "        distances = np.delete(distances, [distances.argmin()])\n",
    "        self.mean = distances.mean()\n",
    "        self.variance = ((distances - distances.mean())**2).mean()**0.5\n",
    "        self.sureness = 1\n",
    "        \n",
    "        self.center = ((self.points[0][0] + self.points[1][0] + self.points[2][0]) / 3, \n",
    "                       (self.points[0][1] + self.points[1][1] + self.points[2][1]) / 3)\n",
    "        self.x_min = int(min(self.points[0][0], self.points[1][0], self.points[2][0]))\n",
    "        self.x_max = int(max(self.points[0][0], self.points[1][0], self.points[2][0]))\n",
    "        self.y_min = int(min(self.points[0][1], self.points[1][1], self.points[2][1]))\n",
    "        self.y_max = int(max(self.points[0][1], self.points[1][1], self.points[2][1]))\n",
    "        \n",
    "    def sameSide(self, a, b, c):\n",
    "        return sign((b[0] - a[0]) * (c[1] - a[1]) - (b[1] - a[1]) * (c[0] - a[0]))\n",
    "    \n",
    "    def contains(self, A):\n",
    "        return (self.sameSide(self.points[0], self.points[1], A) == self.sameSide(self.points[0], self.points[1], self.points[2])\n",
    "            and self.sameSide(self.points[1], self.points[2], A) == self.sameSide(self.points[1], self.points[2], self.points[0])\n",
    "            and self.sameSide(self.points[2], self.points[0], A) == self.sameSide(self.points[2], self.points[0], self.points[1]))\n",
    "    \n",
    "    def add(self, T):\n",
    "        self.sureness += T.sureness\n",
    "        \n",
    "        V = self.variance + T.variance\n",
    "        self.points = [((self.points[0][0] * T.variance + T.points[0][0] * self.variance) / V, (self.points[0][1] * T.variance + T.points[0][1] * self.variance) / V),\n",
    "                       ((self.points[1][0] * T.variance + T.points[1][0] * self.variance) / V, (self.points[1][1] * T.variance + T.points[1][1] * self.variance) / V),\n",
    "                       ((self.points[2][0] * T.variance + T.points[2][0] * self.variance) / V, (self.points[2][1] * T.variance + T.points[2][1] * self.variance) / V)]\n",
    "        \n",
    "        distances = np.array([dist(self.points[0], self.points[1]), dist(self.points[1], self.points[2]), dist(self.points[0], self.points[2])])\n",
    "        self.variance = (self.variance * T.variance) / (self.variance + T.variance)\n",
    "        \n",
    "        \n",
    "    def draw(self, image):\n",
    "        n = randint(0, 6)\n",
    "        cv2.line(image, t_int(self.points[0]), t_int(self.points[1]), COLORS[n], 2)\n",
    "        cv2.line(image, t_int(self.points[1]), t_int(self.points[2]), COLORS[n], 2)\n",
    "        cv2.line(image, t_int(self.points[0]), t_int(self.points[2]), COLORS[n], 2)\n",
    "        cv2.circle(image, t_int(self.center), 5, COLORS[n], -1)"
   ]
  },
  {
   "cell_type": "code",
   "execution_count": 72,
   "metadata": {
    "collapsed": false
   },
   "outputs": [],
   "source": [
    "ans = []\n",
    "\n",
    "for mode in [True, False]:\n",
    "    for thres in range(5, 255, 5):        \n",
    "        for orig in [cv2.cvtColor(img, cv2.COLOR_BGR2GRAY), r, g, b, brown]:\n",
    "            \n",
    "            if mode:\n",
    "                dil = cv2.dilate(orig, np.ones((3, 3)), iterations=5)\n",
    "                orig = cv2.subtract(dil, orig)\n",
    "            else:\n",
    "                er = cv2.dilate(orig, np.ones((3, 3)), iterations=5)\n",
    "                orig = cv2.subtract(orig, er)\n",
    "            \n",
    "            orig = cv2.threshold(orig, thres, 255, cv2.THRESH_BINARY)[1]\n",
    "\n",
    "            im2, contours, hierarchy = cv2.findContours(orig, cv2.RETR_LIST, cv2.CHAIN_APPROX_NONE)\n",
    "\n",
    "            for i, cnt in enumerate(contours):\n",
    "                if cv2.contourArea(cnt) > 1000:\n",
    "                    T = Triangle(cnt)\n",
    "\n",
    "                    if T.minimum < 10 and T.mean > 60 and T.mean < 200 and T.variance / T.mean < 0.06:\n",
    "                        ans.append(T)\n",
    "\n",
    "if verbose:\n",
    "    img2 = img.copy()\n",
    "    for T in ans:\n",
    "        T.draw(img2)\n",
    "    show(img2)"
   ]
  },
  {
   "cell_type": "code",
   "execution_count": 73,
   "metadata": {
    "collapsed": false
   },
   "outputs": [],
   "source": [
    "T_sizes = np.array([T.mean for T in ans])\n",
    "best_size = np.median(T_sizes)"
   ]
  },
  {
   "cell_type": "code",
   "execution_count": 74,
   "metadata": {
    "collapsed": false
   },
   "outputs": [],
   "source": [
    "final_ans = []\n",
    "for T in ans:\n",
    "    if abs(T.mean - best_size) / best_size < 0.15:\n",
    "        new_one = True\n",
    "\n",
    "        for i, True_T in enumerate(final_ans):\n",
    "            if True_T.contains(T.center) or T.contains(True_T.center):\n",
    "                final_ans[i].add(T)\n",
    "                new_one = False\n",
    "                break\n",
    "                \n",
    "        if new_one:\n",
    "            final_ans.append(T)\n",
    "if verbose:            \n",
    "    img2 = img.copy()\n",
    "    for T in final_ans:\n",
    "        T.draw(img2)\n",
    "    show(img2)"
   ]
  },
  {
   "cell_type": "markdown",
   "metadata": {},
   "source": [
    "# ТОЧКИ"
   ]
  },
  {
   "cell_type": "code",
   "execution_count": 75,
   "metadata": {
    "collapsed": true
   },
   "outputs": [],
   "source": [
    "class Circle:\n",
    "    def __init__(self, center, radius, area, iter):\n",
    "        self.center = (int(center[0]), int(center[1]))\n",
    "        self.radius = radius\n",
    "        self.area = area\n",
    "        \n",
    "        self.sureness = 1\n",
    "        self.algorithms = {iter}\n",
    "        \n",
    "    def draw(self, image):\n",
    "        n = randint(0, 6)\n",
    "        cv2.circle(image, t_int(self.center), int(self.radius), COLORS[n], 1)\n",
    "        \n",
    "    def add(self, c):\n",
    "        self.algorithms = self.algorithms.union(c.algorithms)\n",
    "        V = self.sureness + c.sureness\n",
    "        self.center = ((self.center[0] * self.sureness + c.center[0] * c.sureness) / V, (self.center[1] * self.sureness + c.center[1] * c.sureness) / V)\n",
    "        self.radius = (self.radius * self.sureness + c.radius * c.sureness) / V\n",
    "        self.sureness = V        "
   ]
  },
  {
   "cell_type": "code",
   "execution_count": 76,
   "metadata": {
    "collapsed": false
   },
   "outputs": [
    {
     "name": "stdout",
     "output_type": "stream",
     "text": [
      "masks generated\n",
      "|||||||||"
     ]
    }
   ],
   "source": [
    "for T in final_ans:\n",
    "    T.circles = []\n",
    "    T.colors = np.empty((0, 3))\n",
    "    for x in range(T.x_min, T.x_max):\n",
    "        for y in range(T.y_min, T.y_max):        \n",
    "            if T.contains((x, y)):\n",
    "                T.colors = np.vstack([T.colors, img[y, x]])\n",
    "if verbose:\n",
    "    print(\"masks generated\")\n",
    "                \n",
    "for iter, subset in enumerate([[0], [1], [2], [0, 1], [0, 2], [1, 2], [0, 1, 2], [0, 1, 2], [0, 1, 2]]):\n",
    "    for j, T in enumerate(final_ans):\n",
    "        IForest = IsolationForest(n_estimators=100).fit(T.colors[:, subset])\n",
    "\n",
    "        roi = img[T.y_min:T.y_max, T.x_min:T.x_max, subset]\n",
    "\n",
    "        mask = IForest.decision_function(roi.reshape(roi.shape[0] * roi.shape[1], -1)).reshape(roi.shape[0], roi.shape[1])\n",
    "        mask = (255 - ((mask - mask.min()) / (mask.max() - mask.min()) * 255)).astype(np.uint8)\n",
    "        \n",
    "        for thr in range(60, 150, 5):\n",
    "            new_mask = (255 * (cv2.medianBlur(mask, ksize = 3) > thr)).astype(np.uint8)\n",
    "            \n",
    "            im2, contours, hierarchy = cv2.findContours(new_mask, cv2.RETR_TREE, cv2.CHAIN_APPROX_NONE)\n",
    "\n",
    "            for i, cnt in enumerate(contours):\n",
    "                (x,y),radius = cv2.minEnclosingCircle(cnt)\n",
    "\n",
    "                if (cv2.contourArea(cnt) > best_size**2 / 500 and cv2.contourArea(cnt) < 100 and \n",
    "                    cv2.contourArea(cnt) / (math.pi * radius**2) > 0.5 and\n",
    "                    T.contains((x + T.x_min, y + T.y_min))):\n",
    "                    T.circles.append(Circle((x + T.x_min, y + T.y_min), radius, cv2.contourArea(cnt), iter))\n",
    "    \n",
    "    if verbose:\n",
    "        print(\"|\", end=\"\")\n",
    "\n",
    "if verbose:\n",
    "    img2 = img.copy()\n",
    "    for T in final_ans:\n",
    "        for C in T.circles:\n",
    "            C.draw(img2)\n",
    "    show(img2)"
   ]
  },
  {
   "cell_type": "code",
   "execution_count": 77,
   "metadata": {
    "collapsed": false
   },
   "outputs": [],
   "source": [
    "C_sizes = np.array([c.area for T in final_ans for c in T.circles])\n",
    "best_area = np.median(C_sizes)"
   ]
  },
  {
   "cell_type": "code",
   "execution_count": 78,
   "metadata": {
    "collapsed": false
   },
   "outputs": [],
   "source": [
    "for T in final_ans:\n",
    "    T.final_circles = []\n",
    "    for c in T.circles:\n",
    "        if abs(c.area - best_area) / best_area < 0.6:\n",
    "            new_one = True\n",
    "\n",
    "            for i, True_c in enumerate(T.final_circles):\n",
    "                if dist(True_c.center, c.center) <= max(True_c.radius, c.radius):\n",
    "                    T.final_circles[i].add(c)\n",
    "                    new_one = False\n",
    "                    break\n",
    "\n",
    "            if new_one:\n",
    "                T.final_circles.append(c)\n",
    "\n",
    "if verbose:\n",
    "    img2 = img.copy()\n",
    "    for T in final_ans:\n",
    "        for C in T.final_circles:\n",
    "            C.draw(img2)\n",
    "    show(img2)"
   ]
  },
  {
   "cell_type": "code",
   "execution_count": 79,
   "metadata": {
    "collapsed": false
   },
   "outputs": [],
   "source": [
    "for T in final_ans:\n",
    "    final_circles = []\n",
    "    for c in T.final_circles:\n",
    "        if len(c.algorithms) > 4:\n",
    "            final_circles.append(c)\n",
    "    T.final_circles = final_circles.copy()\n",
    "\n",
    "if verbose:\n",
    "    img2 = img.copy()\n",
    "    for T in final_ans:\n",
    "        for C in T.final_circles:\n",
    "            C.draw(img2)\n",
    "    show(img2)"
   ]
  },
  {
   "cell_type": "code",
   "execution_count": 80,
   "metadata": {
    "collapsed": false
   },
   "outputs": [],
   "source": [
    "for T in final_ans:\n",
    "    T.markers = [0, 0, 0]\n",
    "    for c in T.final_circles:\n",
    "        dists = np.array([dist(c.center, T.points[i]) for i in range(3)])\n",
    "        T.markers[dists.argmin()] += 1"
   ]
  },
  {
   "cell_type": "code",
   "execution_count": 81,
   "metadata": {
    "collapsed": false
   },
   "outputs": [],
   "source": [
    "f = open('answer.txt', 'w')\n",
    "f.write(str(len(final_ans)) + \"\\n\")\n",
    "for T in final_ans:\n",
    "    f.write(str(int(T.center[0])) + \" \" + \n",
    "            str(int(T.center[1])) + \" \" + \n",
    "            str(T.markers[0]) + \" \" + \n",
    "            str(T.markers[1]) + \" \" + \n",
    "            str(T.markers[2]) + \"\\n\")\n",
    "f.close()"
   ]
  },
  {
   "cell_type": "code",
   "execution_count": 82,
   "metadata": {
    "collapsed": false
   },
   "outputs": [],
   "source": [
    "img2 = img.copy()\n",
    "for T in final_ans:\n",
    "    font = cv2.FONT_HERSHEY_SIMPLEX    \n",
    "    cv2.putText(img2, str(T.markers[0]) + \" \" + \n",
    "            str(T.markers[1]) + \" \" + \n",
    "            str(T.markers[2]), t_int(T.center), font, 0.75, (255, 255, 255), 2)\n",
    "if verbose:\n",
    "    show(img2)"
   ]
  },
  {
   "cell_type": "code",
   "execution_count": null,
   "metadata": {
    "collapsed": true
   },
   "outputs": [],
   "source": []
  },
  {
   "cell_type": "code",
   "execution_count": null,
   "metadata": {
    "collapsed": true
   },
   "outputs": [],
   "source": []
  }
 ],
 "metadata": {
  "anaconda-cloud": {},
  "hide_input": false,
  "kernelspec": {
   "display_name": "Python [Root]",
   "language": "python",
   "name": "Python [Root]"
  },
  "language_info": {
   "codemirror_mode": {
    "name": "ipython",
    "version": 3
   },
   "file_extension": ".py",
   "mimetype": "text/x-python",
   "name": "python",
   "nbconvert_exporter": "python",
   "pygments_lexer": "ipython3",
   "version": "3.5.2"
  },
  "latex_envs": {
   "LaTeX_envs_menu_present": true,
   "bibliofile": "biblio.bib",
   "cite_by": "apalike",
   "current_citInitial": 1,
   "eqLabelWithNumbers": true,
   "eqNumInitial": 1,
   "hotkeys": {
    "equation": "Ctrl-E",
    "itemize": "Ctrl-I"
   },
   "labels_anchors": false,
   "latex_user_defs": false,
   "report_style_numbering": false,
   "user_envs_cfg": false
  }
 },
 "nbformat": 4,
 "nbformat_minor": 0
}
